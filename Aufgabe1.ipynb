{
  "nbformat": 4,
  "nbformat_minor": 0,
  "metadata": {
    "colab": {
      "name": "Data Cleaning.ipynb",
      "provenance": []
    },
    "kernelspec": {
      "name": "python3",
      "display_name": "Python 3"
    },
    "language_info": {
      "name": "python"
    }
  },
  "cells": [
    {
      "cell_type": "code",
      "execution_count": 1,
      "metadata": {
        "id": "zk8GqT89CC9I"
      },
      "outputs": [],
      "source": [
        "import numpy as np\n",
        "import pandas as pd"
      ]
    },
    {
      "cell_type": "code",
      "source": [
        "fullcsv = pd.read_csv(\"https://raw.githubusercontent.com/edlich/eternalrepo/master/DS-WAHLFACH/dsm-beuth-edl-demodata-dirty.csv\")"
      ],
      "metadata": {
        "id": "oqbFgpSFCHNY"
      },
      "execution_count": 2,
      "outputs": []
    },
    {
      "cell_type": "code",
      "source": [
        "print(fullcsv)"
      ],
      "metadata": {
        "colab": {
          "base_uri": "https://localhost:8080/"
        },
        "id": "paxBFN5kCj14",
        "outputId": "d8da611c-89c3-4e83-9ee9-67ac2dbce70c"
      },
      "execution_count": 3,
      "outputs": [
        {
          "output_type": "stream",
          "name": "stdout",
          "text": [
            "      id              full_name  first_name    last_name  \\\n",
            "0    1.0        Mariel Finnigan      Mariel     Finnigan   \n",
            "1    2.0          Kenyon Possek      Kenyon       Possek   \n",
            "2    3.0         Lalo Manifould        Lalo    Manifould   \n",
            "3    4.0         Nickola Carous     Nickola       Carous   \n",
            "4    5.0          Norman Dubbin      Norman       Dubbin   \n",
            "5    6.0           Hasty Perdue       Hasty       Perdue   \n",
            "6    7.0         Franz Castello       Franz     Castello   \n",
            "7    8.0           Jorge Tarney       Jorge       Tarney   \n",
            "8    9.0     Eunice Blakebrough      Eunice  Blakebrough   \n",
            "9   10.0  Kristopher Frankcombe  Kristopher   Frankcombe   \n",
            "10  11.0           Palm Domotor        Palm      Domotor   \n",
            "11  12.0          Luz Lansdowne         Luz    Lansdowne   \n",
            "12  13.0         Modestia Keble    Modestia        Keble   \n",
            "13  14.0           Stacee Bovis      Stacee        Bovis   \n",
            "14  15.0              Eden Wace        Eden         Wace   \n",
            "15  16.0              Eden Wace        Eden         Wace   \n",
            "16  17.0        Tobias Sherburn      Tobias     Sherburn   \n",
            "17   NaN                    NaN         NaN          NaN   \n",
            "18  19.0         Clair Skillern       Clair     Skillern   \n",
            "19  20.0        Mathew Addicott      Mathew     Addicott   \n",
            "20  21.0       Kerianne Goacher    Kerianne      Goacher   \n",
            "21   NaN          Maurits Shawl     Maurits        Shawl   \n",
            "22   NaN                    NaN         NaN          NaN   \n",
            "\n",
            "                             email  gender  age  \n",
            "0              mfinnigan0@usda.gov  Female   60  \n",
            "1                kpossek1@ucoz.com    Male   12  \n",
            "2              lmanifould2@pbs.org    Male   26  \n",
            "3                ncarous3@phoca.cz    Male    4  \n",
            "4           ndubbin4@wikipedia.org    Male   17  \n",
            "5                  hperdue5@qq.com     NaN   77  \n",
            "6              fcastello6@1688.com    Male   25  \n",
            "7                  jtarney7@ft.com    Male   77  \n",
            "8           eblakebrough8@sohu.com  Female   45  \n",
            "9           kfrankcombe9@slate.com    Male  old  \n",
            "10             pdomotora@github.io    Male    6  \n",
            "11     llansdowneb@theguardian.com  Female   16  \n",
            "12                 mkeblec@cmu.edu  Female   91  \n",
            "13           sbovisd@webeden.co.uk  Female   22  \n",
            "14             ewacee@marriott.com  Female   16  \n",
            "15             ewacee@marriott.com  Female   16  \n",
            "16         tsherburnf@facebook.com    Male    2  \n",
            "17                             NaN     NaN  NaN  \n",
            "18              cskillerng@nih.gov    Male  -78  \n",
            "19  maddicotth@acquirethisname.com    Male   65  \n",
            "20                             NaN  Female   45  \n",
            "21                mshawlj@dmoz.org    Male   72  \n",
            "22                             NaN     NaN  NaN  \n"
          ]
        }
      ]
    },
    {
      "cell_type": "markdown",
      "source": [
        "Alle Reihen, bei denen essenzielle Daten fehlen, werden gelöscht.\n",
        "Daten mit leerer \"id\" werden nicht gelöscht, da diese einfach nachgetragen werden kann.\n",
        "Daten mit leerer \"first_name\" oder \"last_name\" werden nicht gelöscht, da der Inhalt von \"full_name\" abgeleitet werden könnte.\n",
        "(Missing Data)"
      ],
      "metadata": {
        "id": "rhaOW_VFS11n"
      }
    },
    {
      "cell_type": "code",
      "source": [
        "fullcsv = fullcsv[fullcsv['full_name'].notna()]\n",
        "fullcsv = fullcsv[fullcsv['email'].notna()]\n",
        "fullcsv = fullcsv[fullcsv['gender'].notna()]\n",
        "fullcsv = fullcsv[fullcsv['age'].notna()]\n",
        "print(fullcsv)"
      ],
      "metadata": {
        "colab": {
          "base_uri": "https://localhost:8080/"
        },
        "id": "-GHHWBH6CkhA",
        "outputId": "c2d142e4-5c4c-4feb-870e-6477e03fc5c5"
      },
      "execution_count": 4,
      "outputs": [
        {
          "output_type": "stream",
          "name": "stdout",
          "text": [
            "      id              full_name  first_name    last_name  \\\n",
            "0    1.0        Mariel Finnigan      Mariel     Finnigan   \n",
            "1    2.0          Kenyon Possek      Kenyon       Possek   \n",
            "2    3.0         Lalo Manifould        Lalo    Manifould   \n",
            "3    4.0         Nickola Carous     Nickola       Carous   \n",
            "4    5.0          Norman Dubbin      Norman       Dubbin   \n",
            "6    7.0         Franz Castello       Franz     Castello   \n",
            "7    8.0           Jorge Tarney       Jorge       Tarney   \n",
            "8    9.0     Eunice Blakebrough      Eunice  Blakebrough   \n",
            "9   10.0  Kristopher Frankcombe  Kristopher   Frankcombe   \n",
            "10  11.0           Palm Domotor        Palm      Domotor   \n",
            "11  12.0          Luz Lansdowne         Luz    Lansdowne   \n",
            "12  13.0         Modestia Keble    Modestia        Keble   \n",
            "13  14.0           Stacee Bovis      Stacee        Bovis   \n",
            "14  15.0              Eden Wace        Eden         Wace   \n",
            "15  16.0              Eden Wace        Eden         Wace   \n",
            "16  17.0        Tobias Sherburn      Tobias     Sherburn   \n",
            "18  19.0         Clair Skillern       Clair     Skillern   \n",
            "19  20.0        Mathew Addicott      Mathew     Addicott   \n",
            "21   NaN          Maurits Shawl     Maurits        Shawl   \n",
            "\n",
            "                             email  gender  age  \n",
            "0              mfinnigan0@usda.gov  Female   60  \n",
            "1                kpossek1@ucoz.com    Male   12  \n",
            "2              lmanifould2@pbs.org    Male   26  \n",
            "3                ncarous3@phoca.cz    Male    4  \n",
            "4           ndubbin4@wikipedia.org    Male   17  \n",
            "6              fcastello6@1688.com    Male   25  \n",
            "7                  jtarney7@ft.com    Male   77  \n",
            "8           eblakebrough8@sohu.com  Female   45  \n",
            "9           kfrankcombe9@slate.com    Male  old  \n",
            "10             pdomotora@github.io    Male    6  \n",
            "11     llansdowneb@theguardian.com  Female   16  \n",
            "12                 mkeblec@cmu.edu  Female   91  \n",
            "13           sbovisd@webeden.co.uk  Female   22  \n",
            "14             ewacee@marriott.com  Female   16  \n",
            "15             ewacee@marriott.com  Female   16  \n",
            "16         tsherburnf@facebook.com    Male    2  \n",
            "18              cskillerng@nih.gov    Male  -78  \n",
            "19  maddicotth@acquirethisname.com    Male   65  \n",
            "21                mshawlj@dmoz.org    Male   72  \n"
          ]
        }
      ]
    },
    {
      "cell_type": "markdown",
      "source": [
        "Da nur eine id fehlt, wird sie manuell eingetragen."
      ],
      "metadata": {
        "id": "9-OYoXqMTQ_3"
      }
    },
    {
      "cell_type": "code",
      "source": [
        "fullcsv.at[21, 'id'] = 22.0"
      ],
      "metadata": {
        "id": "sI0wipCQSFKo"
      },
      "execution_count": 5,
      "outputs": []
    },
    {
      "cell_type": "markdown",
      "source": [
        "Alle Reihen, wo alles außer der id das Gleiche wie bei einer anderen Reihe ist, werden gelöscht. (Duplicate Data)"
      ],
      "metadata": {
        "id": "Nu9em4b0T8Xv"
      }
    },
    {
      "cell_type": "code",
      "source": [
        "fullcsv.drop_duplicates(subset = fullcsv.columns.difference(['id']), inplace=True)\n",
        "print(fullcsv)"
      ],
      "metadata": {
        "colab": {
          "base_uri": "https://localhost:8080/"
        },
        "id": "5Lt_rQGiIFFl",
        "outputId": "cfdb7e14-da27-4ee8-eb07-cc349ace96ab"
      },
      "execution_count": 6,
      "outputs": [
        {
          "output_type": "stream",
          "name": "stdout",
          "text": [
            "      id              full_name  first_name    last_name  \\\n",
            "0    1.0        Mariel Finnigan      Mariel     Finnigan   \n",
            "1    2.0          Kenyon Possek      Kenyon       Possek   \n",
            "2    3.0         Lalo Manifould        Lalo    Manifould   \n",
            "3    4.0         Nickola Carous     Nickola       Carous   \n",
            "4    5.0          Norman Dubbin      Norman       Dubbin   \n",
            "6    7.0         Franz Castello       Franz     Castello   \n",
            "7    8.0           Jorge Tarney       Jorge       Tarney   \n",
            "8    9.0     Eunice Blakebrough      Eunice  Blakebrough   \n",
            "9   10.0  Kristopher Frankcombe  Kristopher   Frankcombe   \n",
            "10  11.0           Palm Domotor        Palm      Domotor   \n",
            "11  12.0          Luz Lansdowne         Luz    Lansdowne   \n",
            "12  13.0         Modestia Keble    Modestia        Keble   \n",
            "13  14.0           Stacee Bovis      Stacee        Bovis   \n",
            "14  15.0              Eden Wace        Eden         Wace   \n",
            "16  17.0        Tobias Sherburn      Tobias     Sherburn   \n",
            "18  19.0         Clair Skillern       Clair     Skillern   \n",
            "19  20.0        Mathew Addicott      Mathew     Addicott   \n",
            "21  22.0          Maurits Shawl     Maurits        Shawl   \n",
            "\n",
            "                             email  gender  age  \n",
            "0              mfinnigan0@usda.gov  Female   60  \n",
            "1                kpossek1@ucoz.com    Male   12  \n",
            "2              lmanifould2@pbs.org    Male   26  \n",
            "3                ncarous3@phoca.cz    Male    4  \n",
            "4           ndubbin4@wikipedia.org    Male   17  \n",
            "6              fcastello6@1688.com    Male   25  \n",
            "7                  jtarney7@ft.com    Male   77  \n",
            "8           eblakebrough8@sohu.com  Female   45  \n",
            "9           kfrankcombe9@slate.com    Male  old  \n",
            "10             pdomotora@github.io    Male    6  \n",
            "11     llansdowneb@theguardian.com  Female   16  \n",
            "12                 mkeblec@cmu.edu  Female   91  \n",
            "13           sbovisd@webeden.co.uk  Female   22  \n",
            "14             ewacee@marriott.com  Female   16  \n",
            "16         tsherburnf@facebook.com    Male    2  \n",
            "18              cskillerng@nih.gov    Male  -78  \n",
            "19  maddicotth@acquirethisname.com    Male   65  \n",
            "21                mshawlj@dmoz.org    Male   72  \n"
          ]
        }
      ]
    },
    {
      "cell_type": "markdown",
      "source": [
        "Wenn das Alter nicht als Zahl angegeben wurde oder negativ ist, wird die Reihe gelöscht. (Inconsistent Data)"
      ],
      "metadata": {
        "id": "Qpym9dD2ULa_"
      }
    },
    {
      "cell_type": "code",
      "source": [
        "fullcsv = fullcsv[fullcsv['age'].apply(lambda x: str(x).isdigit())]\n",
        "print(fullcsv)"
      ],
      "metadata": {
        "colab": {
          "base_uri": "https://localhost:8080/"
        },
        "id": "jUN2GsxrLwzk",
        "outputId": "cf55462d-6c6e-4d09-be24-af030f314752"
      },
      "execution_count": 7,
      "outputs": [
        {
          "output_type": "stream",
          "name": "stdout",
          "text": [
            "      id           full_name first_name    last_name  \\\n",
            "0    1.0     Mariel Finnigan     Mariel     Finnigan   \n",
            "1    2.0       Kenyon Possek     Kenyon       Possek   \n",
            "2    3.0      Lalo Manifould       Lalo    Manifould   \n",
            "3    4.0      Nickola Carous    Nickola       Carous   \n",
            "4    5.0       Norman Dubbin     Norman       Dubbin   \n",
            "6    7.0      Franz Castello      Franz     Castello   \n",
            "7    8.0        Jorge Tarney      Jorge       Tarney   \n",
            "8    9.0  Eunice Blakebrough     Eunice  Blakebrough   \n",
            "10  11.0        Palm Domotor       Palm      Domotor   \n",
            "11  12.0       Luz Lansdowne        Luz    Lansdowne   \n",
            "12  13.0      Modestia Keble   Modestia        Keble   \n",
            "13  14.0        Stacee Bovis     Stacee        Bovis   \n",
            "14  15.0           Eden Wace       Eden         Wace   \n",
            "16  17.0     Tobias Sherburn     Tobias     Sherburn   \n",
            "19  20.0     Mathew Addicott     Mathew     Addicott   \n",
            "21  22.0       Maurits Shawl    Maurits        Shawl   \n",
            "\n",
            "                             email  gender age  \n",
            "0              mfinnigan0@usda.gov  Female  60  \n",
            "1                kpossek1@ucoz.com    Male  12  \n",
            "2              lmanifould2@pbs.org    Male  26  \n",
            "3                ncarous3@phoca.cz    Male   4  \n",
            "4           ndubbin4@wikipedia.org    Male  17  \n",
            "6              fcastello6@1688.com    Male  25  \n",
            "7                  jtarney7@ft.com    Male  77  \n",
            "8           eblakebrough8@sohu.com  Female  45  \n",
            "10             pdomotora@github.io    Male   6  \n",
            "11     llansdowneb@theguardian.com  Female  16  \n",
            "12                 mkeblec@cmu.edu  Female  91  \n",
            "13           sbovisd@webeden.co.uk  Female  22  \n",
            "14             ewacee@marriott.com  Female  16  \n",
            "16         tsherburnf@facebook.com    Male   2  \n",
            "19  maddicotth@acquirethisname.com    Male  65  \n",
            "21                mshawlj@dmoz.org    Male  72  \n"
          ]
        }
      ]
    }
  ]
}